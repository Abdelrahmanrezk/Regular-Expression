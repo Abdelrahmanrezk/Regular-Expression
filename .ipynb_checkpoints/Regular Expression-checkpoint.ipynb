{
 "cells": [
  {
   "cell_type": "markdown",
   "metadata": {},
   "source": [
    "# Acknowledgment:\n",
    "This homework is adapted from Chris Manning and Dan Jurafsky's Coursera NLP class from 2012."
   ]
  },
  {
   "cell_type": "markdown",
   "metadata": {},
   "source": [
    "The goal of this assignment is to write regular expressions that extract phone numbers and regular expressions that extract email addresses from multiple of files.\n"
   ]
  },
  {
   "cell_type": "markdown",
   "metadata": {},
   "source": [
    "## Examples of these emails and phones\n",
    "\n",
    "    - jurafsky(at)cs.stanford.edu\n",
    "    - jurafsky at csli dot stanford dot edu\n",
    "    - <script type=\"text/javascript\">obfuscate('stanford.edu','jurafsky')</script> \n",
    "    - TEL +1-650-723-0293\n",
    "    - <a href=\"contact.html\">TEL</a> +1&thinsp;650&thinsp;723&thinsp;0293"
   ]
  },
  {
   "cell_type": "markdown",
   "metadata": {},
   "source": [
    "## Solution\n",
    "our solution to extract most of mails and phone numbers from all of files depends on the use of Regular Expression "
   ]
  },
  {
   "cell_type": "code",
   "execution_count": 27,
   "metadata": {},
   "outputs": [
    {
     "data": {
      "text/plain": [
       "['/home/abdelrahman/Desktop/reqular_task']"
      ]
     },
     "execution_count": 27,
     "metadata": {},
     "output_type": "execute_result"
    }
   ],
   "source": [
    "folder_dirs = !pwd # retrive our direction we are in\n",
    "folder_dirs"
   ]
  },
  {
   "cell_type": "code",
   "execution_count": 28,
   "metadata": {},
   "outputs": [],
   "source": [
    "folder_dirs = folder_dirs[0] + '/data/dev/' # all of files at dev dir"
   ]
  },
  {
   "cell_type": "code",
   "execution_count": 29,
   "metadata": {},
   "outputs": [
    {
     "data": {
      "text/plain": [
       "'/home/abdelrahman/Desktop/reqular_task/data/dev/'"
      ]
     },
     "execution_count": 29,
     "metadata": {},
     "output_type": "execute_result"
    }
   ],
   "source": [
    "folder_dirs"
   ]
  },
  {
   "cell_type": "code",
   "execution_count": 30,
   "metadata": {},
   "outputs": [],
   "source": [
    "import os"
   ]
  },
  {
   "cell_type": "code",
   "execution_count": 31,
   "metadata": {},
   "outputs": [],
   "source": [
    "for filename in os.listdir(folder_dirs):\n",
    "    file_data = open(filename, \"+a\")\n",
    "    for line in file_data:\n",
    "        print(line) "
   ]
  },
  {
   "cell_type": "code",
   "execution_count": null,
   "metadata": {},
   "outputs": [],
   "source": []
  }
 ],
 "metadata": {
  "kernelspec": {
   "display_name": "Python 3",
   "language": "python",
   "name": "python3"
  },
  "language_info": {
   "codemirror_mode": {
    "name": "ipython",
    "version": 3
   },
   "file_extension": ".py",
   "mimetype": "text/x-python",
   "name": "python",
   "nbconvert_exporter": "python",
   "pygments_lexer": "ipython3",
   "version": "3.7.4"
  }
 },
 "nbformat": 4,
 "nbformat_minor": 2
}
